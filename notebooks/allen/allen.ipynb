{
 "cells": [
  {
   "cell_type": "markdown",
   "metadata": {},
   "source": [
    "Questions list:\n",
    "\n",
    "-Genre one-sample t-test, x-axis?\n",
    "-Keep or remove bar chart from one-sample t-test for genre?\n",
    "\n",
    "Abhineet: group by genre, group by metric\n",
    "add a color map to it\n",
    "seamap or palette\n",
    "recommends reducing size (powerpoint shrinking down)\n",
    "\n",
    "take the normally distributed plot, plot the mean of all the directors, use for presentation\n",
    "draw a vertical line at the mean, the top 10%, maybe add a few names from the directors.\n",
    "profits of each the top 10% of directors: slice it to top 10 or top 5.\n",
    "\n",
    "another thing: Saketh used seaborn, you should also use seaborn. add titles and whatnot, go from there.\n",
    "I like the normal distributions, etc.\n",
    "\n",
    "make sure to mention budget\n",
    "try to have one scheme for all your plots\n",
    "just try to figure out how to convert billions into hundreds of millions\n",
    "send Abhineet a reminder about using formatters (he sent the link, in Teams chat)"
   ]
  }
 ],
 "metadata": {
  "kernelspec": {
   "display_name": "Python (learn-env)",
   "language": "python",
   "name": "learn-env"
  },
  "language_info": {
   "codemirror_mode": {
    "name": "ipython",
    "version": 3
   },
   "file_extension": ".py",
   "mimetype": "text/x-python",
   "name": "python",
   "nbconvert_exporter": "python",
   "pygments_lexer": "ipython3",
   "version": "3.8.5"
  }
 },
 "nbformat": 4,
 "nbformat_minor": 4
}
